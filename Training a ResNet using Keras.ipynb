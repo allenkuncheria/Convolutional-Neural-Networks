{
  "cells": [
    {
      "cell_type": "markdown",
      "metadata": {
        "id": "soP-ybBcvmu7"
      },
      "source": [
        "# Training a ResNet using Keras\n",
        "The following code implements a ResNet of 50 layers using Keras on the PlantVillage dataset, which consists of 54303 healthy and unhealthy leaf images divided into 38 categories by species and disease."
      ]
    },
    {
      "cell_type": "code",
      "execution_count": null,
      "metadata": {
        "id": "tqyRTs_cvmvM"
      },
      "outputs": [],
      "source": [
        "# Importing libraries\n",
        "import numpy as np\n",
        "import tensorflow as tf\n",
        "import matplotlib.pyplot as plt\n",
        "import tensorflow_datasets as tfds\n",
        "import warnings\n",
        "warnings.filterwarnings('ignore')"
      ]
    },
    {
      "cell_type": "markdown",
      "metadata": {
        "id": "ptH0KEAVvmvk"
      },
      "source": [
        "## 1 Building ResNet Blocks\n",
        "Every ResNet block consists of an identity block and a convolutional block."
      ]
    },
    {
      "cell_type": "markdown",
      "metadata": {
        "id": "qTfHSQTEv2W4"
      },
      "source": [
        "### 1.1 Identity Block"
      ]
    },
    {
      "cell_type": "code",
      "execution_count": null,
      "metadata": {
        "id": "9v32r0Jl5YzZ"
      },
      "outputs": [],
      "source": [
        "from tensorflow.keras.initializers import glorot_uniform"
      ]
    },
    {
      "cell_type": "code",
      "execution_count": null,
      "metadata": {
        "id": "dSUmEsBwxoZk"
      },
      "outputs": [],
      "source": [
        "# Defining the identity block\n",
        "def identity_block(X, f, filters, stage, block):\n",
        "    \"\"\"\n",
        "    Arguments:\n",
        "    X -- input tensor\n",
        "    f -- integer specifying the shape of the middle CONV's kernel\n",
        "    filters -- python list of integers, defining the number of filters in the CONV layers of the main path\n",
        "    stage -- integer used to name the layers, depending on their positions in the network\n",
        "    block -- string/character, used to name the layers, depending on their position in the network\n",
        "\n",
        "    Returns:\n",
        "    X -- output of the identity block\n",
        "    \"\"\"\n",
        "\n",
        "    # Defining name basis\n",
        "    conv_name_base = 'res' + str(stage) + block + '_branch'\n",
        "    bn_name_base = 'bn' + str(stage) + block + '_branch'\n",
        "\n",
        "    # Retrieving filters\n",
        "    f1,f2,f3 = filters\n",
        "\n",
        "    # Saving the input value\n",
        "    X_short = X\n",
        "\n",
        "    # Building the first component of the main path\n",
        "    X = tf.keras.layers.Conv2D(filters=f1,kernel_size=(1,1),strides=(1,1),padding='valid',name = conv_name_base + '2a', kernel_initializer = glorot_uniform(seed=0))(X)\n",
        "    X = tf.keras.layers.BatchNormalization(axis = -1, name = bn_name_base + '2a')(X)\n",
        "    X = tf.keras.layers.Activation('relu')(X)\n",
        "\n",
        "    # Building the second component of the main path\n",
        "    X = tf.keras.layers.Conv2D(filters=f2,kernel_size=(f,f),strides=(1,1),padding='same',name = conv_name_base + '2b', kernel_initializer = glorot_uniform(seed=0))(X)\n",
        "    X = tf.keras.layers.BatchNormalization(axis = -1, name = bn_name_base + '2b')(X)\n",
        "    X = tf.keras.layers.Activation('relu')(X)\n",
        "\n",
        "    # Building the third component of the main path\n",
        "    X = tf.keras.layers.Conv2D(filters=f3,kernel_size=(1,1),strides=(1,1),padding='valid',name = conv_name_base + '2c', kernel_initializer = glorot_uniform(seed=0))(X)\n",
        "    X = tf.keras.layers.BatchNormalization(axis = -1, name = bn_name_base + '2c')(X)\n",
        "\n",
        "    # Final component\n",
        "    X = tf.keras.layers.Add()([X,X_short])\n",
        "    X = tf.keras.layers.Activation('relu')(X)\n",
        "\n",
        "    return X"
      ]
    },
    {
      "cell_type": "code",
      "execution_count": null,
      "metadata": {
        "colab": {
          "base_uri": "https://localhost:8080/"
        },
        "id": "XG5wHJOB3Pho",
        "outputId": "f1b56f02-cb6c-4bb7-9fd6-f23eda796f03"
      },
      "outputs": [
        {
          "data": {
            "text/plain": [
              "<tf.Tensor: shape=(1, 256, 256, 3), dtype=float32, numpy=\n",
              "array([[[[8.2510239e-01, 8.4630620e-01, 3.1012887e-01],\n",
              "         [1.8564922e-01, 2.0246243e-01, 0.0000000e+00],\n",
              "         [0.0000000e+00, 0.0000000e+00, 0.0000000e+00],\n",
              "         ...,\n",
              "         [0.0000000e+00, 4.2182884e-01, 2.2319677e-01],\n",
              "         [0.0000000e+00, 9.6823412e-01, 0.0000000e+00],\n",
              "         [2.9512815e+00, 0.0000000e+00, 1.9504287e+00]],\n",
              "\n",
              "        [[3.0543488e-03, 2.5732577e-01, 1.1137931e+00],\n",
              "         [1.3819411e+00, 0.0000000e+00, 2.7503887e-01],\n",
              "         [1.1408516e+00, 0.0000000e+00, 0.0000000e+00],\n",
              "         ...,\n",
              "         [0.0000000e+00, 0.0000000e+00, 0.0000000e+00],\n",
              "         [1.0683779e+00, 0.0000000e+00, 9.5688099e-01],\n",
              "         [0.0000000e+00, 0.0000000e+00, 4.4387048e-01]],\n",
              "\n",
              "        [[0.0000000e+00, 5.6252456e-01, 0.0000000e+00],\n",
              "         [0.0000000e+00, 0.0000000e+00, 0.0000000e+00],\n",
              "         [8.7330061e-01, 0.0000000e+00, 1.1308697e+00],\n",
              "         ...,\n",
              "         [1.4997827e+00, 4.5054978e-01, 1.9506207e+00],\n",
              "         [3.7024274e-01, 0.0000000e+00, 1.9175186e+00],\n",
              "         [1.5265635e+00, 0.0000000e+00, 0.0000000e+00]],\n",
              "\n",
              "        ...,\n",
              "\n",
              "        [[0.0000000e+00, 1.0861610e+00, 0.0000000e+00],\n",
              "         [8.6694509e-01, 0.0000000e+00, 9.1032827e-01],\n",
              "         [0.0000000e+00, 0.0000000e+00, 1.1295469e-03],\n",
              "         ...,\n",
              "         [3.5875088e-01, 0.0000000e+00, 2.2805829e+00],\n",
              "         [2.3612390e+00, 0.0000000e+00, 1.1116240e+00],\n",
              "         [6.5920132e-01, 0.0000000e+00, 6.6002965e-01]],\n",
              "\n",
              "        [[1.5852121e+00, 0.0000000e+00, 0.0000000e+00],\n",
              "         [0.0000000e+00, 0.0000000e+00, 9.9781269e-01],\n",
              "         [0.0000000e+00, 8.8786280e-01, 1.5986719e+00],\n",
              "         ...,\n",
              "         [0.0000000e+00, 3.1734535e-01, 0.0000000e+00],\n",
              "         [9.8920554e-01, 0.0000000e+00, 0.0000000e+00],\n",
              "         [3.6108643e-01, 5.8074260e-01, 1.1537519e+00]],\n",
              "\n",
              "        [[5.5399305e-01, 3.8181680e-01, 0.0000000e+00],\n",
              "         [0.0000000e+00, 6.2881064e-01, 0.0000000e+00],\n",
              "         [0.0000000e+00, 6.7053360e-01, 0.0000000e+00],\n",
              "         ...,\n",
              "         [0.0000000e+00, 0.0000000e+00, 0.0000000e+00],\n",
              "         [1.5288612e+00, 9.4570786e-01, 0.0000000e+00],\n",
              "         [0.0000000e+00, 0.0000000e+00, 0.0000000e+00]]]], dtype=float32)>"
            ]
          },
          "execution_count": 4,
          "metadata": {},
          "output_type": "execute_result"
        }
      ],
      "source": [
        "# Testing the identity block\n",
        "X = tf.random.normal((1,256,256,3))\n",
        "identity_block(X,3,[3,3,3],1,'a')"
      ]
    },
    {
      "cell_type": "markdown",
      "metadata": {
        "id": "Z-TC9EaB2QF1"
      },
      "source": [
        "### 1.2 Convolutional Block"
      ]
    },
    {
      "cell_type": "code",
      "execution_count": null,
      "metadata": {
        "id": "phLckhoy2uL_"
      },
      "outputs": [],
      "source": [
        "def convolutional_block(X, f, filters, stage, block, s = 2):\n",
        "    \"\"\"\n",
        "    Arguments:\n",
        "    X -- input tensor\n",
        "    f -- integer, specifying the shape of the middle CONV's window for the main path\n",
        "    filters -- python list of integers, defining the number of filters in the CONV layers of the main path\n",
        "    stage -- integer, used to name the layers, depending on their position in the network\n",
        "    block -- string/character, used to name the layers, depending on their position in the network\n",
        "    s -- Integer, specifying the stride to be used\n",
        "\n",
        "    Returns:\n",
        "    X -- output of the convolutional block, tensor of shape (n_H, n_W, n_C)\n",
        "    \"\"\"\n",
        "\n",
        "    # defining name basis\n",
        "    conv_name_base = 'res' + str(stage) + block + '_branch'\n",
        "    bn_name_base = 'bn' + str(stage) + block + '_branch'\n",
        "\n",
        "    # Retrieve Filters\n",
        "    f1,f2,f3 = filters\n",
        "\n",
        "    # Save the input value\n",
        "    X_short = X\n",
        "\n",
        "    # First component of the main path\n",
        "    X = tf.keras.layers.Conv2D(filters=f1,kernel_size=(1,1),strides=(s,s),padding='valid',name = conv_name_base + '2a', kernel_initializer = glorot_uniform(seed=0))(X)\n",
        "    X = tf.keras.layers.BatchNormalization(axis = -1, name = bn_name_base + '2a')(X)\n",
        "    X = tf.keras.layers.Activation('relu')(X)\n",
        "\n",
        "    # Second component of the main path\n",
        "    X = tf.keras.layers.Conv2D(filters=f2,kernel_size=(1,1),strides=(1,1),padding='same',name = conv_name_base + '2b', kernel_initializer = glorot_uniform(seed=0))(X)\n",
        "    X = tf.keras.layers.BatchNormalization(axis = -1, name = bn_name_base + '2b')(X)\n",
        "    X = tf.keras.layers.Activation('relu')(X)\n",
        "\n",
        "    # Third component of the main path\n",
        "    X = tf.keras.layers.Conv2D(filters=f3,kernel_size=(1,1),strides=(1,1),padding='valid',name = conv_name_base + '2c', kernel_initializer = glorot_uniform(seed=0))(X)\n",
        "    X = tf.keras.layers.BatchNormalization(axis = -1, name = bn_name_base + '2c')(X)\n",
        "\n",
        "    # Shortcut path\n",
        "    X_short = tf.keras.layers.Conv2D(filters=f3,kernel_size=(1,1),strides=(s,s),padding='valid',name = conv_name_base + '1', kernel_initializer = glorot_uniform(seed=0))(X_short)\n",
        "    X_short = tf.keras.layers.BatchNormalization(axis = -1, name = bn_name_base + '1')(X_short)\n",
        "\n",
        "    # Final step\n",
        "    X = tf.keras.layers.Add()([X,X_short])\n",
        "    X = tf.keras.layers.Activation('relu')(X)\n",
        "\n",
        "    return X"
      ]
    },
    {
      "cell_type": "code",
      "execution_count": null,
      "metadata": {
        "colab": {
          "base_uri": "https://localhost:8080/"
        },
        "id": "cqJ9CoJI4HB8",
        "outputId": "49e28052-d0c4-4587-9dea-699029d38dbd"
      },
      "outputs": [
        {
          "data": {
            "text/plain": [
              "<tf.Tensor: shape=(1, 128, 128, 8), dtype=float32, numpy=\n",
              "array([[[[0.58159125, 0.24642763, 0.        , ..., 0.        ,\n",
              "          0.        , 0.        ],\n",
              "         [0.02269331, 0.10342281, 0.12545165, ..., 0.        ,\n",
              "          0.0866431 , 0.1368264 ],\n",
              "         [0.        , 0.54562795, 1.0073454 , ..., 1.2334616 ,\n",
              "          0.9890927 , 0.        ],\n",
              "         ...,\n",
              "         [1.517161  , 0.3468545 , 0.        , ..., 0.        ,\n",
              "          0.        , 0.43026656],\n",
              "         [2.3577566 , 0.02041095, 0.        , ..., 0.        ,\n",
              "          0.        , 0.8743483 ],\n",
              "         [1.4902083 , 0.        , 0.        , ..., 0.        ,\n",
              "          0.        , 0.573305  ]],\n",
              "\n",
              "        [[0.5854722 , 0.772046  , 0.3357129 , ..., 0.        ,\n",
              "          0.08130588, 0.84706825],\n",
              "         [0.        , 0.37311524, 0.4968412 , ..., 1.1192389 ,\n",
              "          0.72337675, 0.        ],\n",
              "         [1.3089738 , 0.41631114, 0.        , ..., 0.        ,\n",
              "          0.        , 0.62670094],\n",
              "         ...,\n",
              "         [0.44379258, 0.        , 0.        , ..., 0.        ,\n",
              "          0.        , 0.35765022],\n",
              "         [0.        , 0.538713  , 0.63207936, ..., 0.        ,\n",
              "          0.44210896, 0.02439226],\n",
              "         [0.        , 0.        , 0.        , ..., 1.2025936 ,\n",
              "          0.        , 0.        ]],\n",
              "\n",
              "        [[0.        , 0.5603834 , 0.73270637, ..., 0.25262272,\n",
              "          0.59839326, 0.        ],\n",
              "         [0.21018589, 0.2356008 , 0.27678856, ..., 0.        ,\n",
              "          0.10306688, 0.6129092 ],\n",
              "         [0.48839587, 0.        , 0.        , ..., 0.2304757 ,\n",
              "          0.        , 0.        ],\n",
              "         ...,\n",
              "         [0.72093403, 0.        , 0.        , ..., 0.16551162,\n",
              "          0.        , 0.        ],\n",
              "         [1.5103539 , 0.        , 0.        , ..., 0.        ,\n",
              "          0.        , 0.4685235 ],\n",
              "         [0.        , 0.36667857, 0.45126212, ..., 0.8122165 ,\n",
              "          0.60532415, 0.        ]],\n",
              "\n",
              "        ...,\n",
              "\n",
              "        [[0.78859967, 0.        , 0.        , ..., 0.        ,\n",
              "          0.        , 0.4462784 ],\n",
              "         [0.        , 0.        , 0.        , ..., 0.79685575,\n",
              "          0.        , 0.        ],\n",
              "         [0.        , 0.8779581 , 0.52258044, ..., 0.81074154,\n",
              "          0.7130543 , 0.        ],\n",
              "         ...,\n",
              "         [0.        , 0.        , 0.46502084, ..., 1.9939635 ,\n",
              "          0.750602  , 0.        ],\n",
              "         [0.        , 0.        , 0.        , ..., 1.2562275 ,\n",
              "          0.109593  , 0.        ],\n",
              "         [0.9870802 , 0.        , 0.        , ..., 0.9212694 ,\n",
              "          0.        , 0.        ]],\n",
              "\n",
              "        [[0.        , 1.1841196 , 1.5342386 , ..., 0.28370154,\n",
              "          1.1894004 , 0.14720441],\n",
              "         [0.8922546 , 0.        , 0.        , ..., 0.25534207,\n",
              "          0.        , 0.        ],\n",
              "         [0.        , 0.41280136, 0.        , ..., 0.4810897 ,\n",
              "          0.14778027, 0.        ],\n",
              "         ...,\n",
              "         [0.        , 0.        , 0.        , ..., 0.58565396,\n",
              "          0.        , 0.        ],\n",
              "         [0.        , 1.5861793 , 1.8071389 , ..., 1.2755274 ,\n",
              "          1.8052634 , 0.        ],\n",
              "         [0.        , 1.3726726 , 1.7089399 , ..., 1.9632392 ,\n",
              "          1.8849845 , 0.        ]],\n",
              "\n",
              "        [[0.        , 0.82046974, 0.82041526, ..., 0.95470035,\n",
              "          0.98003715, 0.        ],\n",
              "         [0.87312365, 0.        , 0.        , ..., 0.38515717,\n",
              "          0.        , 0.        ],\n",
              "         [0.        , 0.8127072 , 0.67590666, ..., 1.9772372 ,\n",
              "          1.1128558 , 0.        ],\n",
              "         ...,\n",
              "         [0.        , 1.1160457 , 1.2521743 , ..., 0.        ,\n",
              "          0.93756545, 0.        ],\n",
              "         [0.10266009, 0.3901927 , 0.43488783, ..., 0.        ,\n",
              "          0.2692904 , 0.48844022],\n",
              "         [0.        , 1.235293  , 1.6448877 , ..., 0.56266624,\n",
              "          1.3331773 , 0.        ]]]], dtype=float32)>"
            ]
          },
          "execution_count": 6,
          "metadata": {},
          "output_type": "execute_result"
        }
      ],
      "source": [
        "# Testing the convolutional block\n",
        "convolutional_block(X,3,[8,8,8],1,'a')"
      ]
    },
    {
      "cell_type": "markdown",
      "metadata": {
        "id": "ov9WF8J0vmvl"
      },
      "source": [
        "## 2 Building the ResNet-50 Model\n",
        "The ResNet-50 model has 5 stages with convolutional and identity layers."
      ]
    },
    {
      "cell_type": "code",
      "execution_count": null,
      "metadata": {
        "id": "L0MT4TVQ1nxs"
      },
      "outputs": [],
      "source": [
        "def ResNet50(input_shape = (64, 64, 3), classes = 6):\n",
        "\n",
        "  X_input = tf.keras.layers.Input(input_shape)\n",
        "\n",
        "  # Zero padding of input\n",
        "  X = tf.keras.layers.ZeroPadding2D(padding=(3, 3))(X_input)\n",
        "\n",
        "  # Stage 1\n",
        "  X = tf.keras.layers.Conv2D(filters=64,kernel_size=(7,7),strides=(2,2),name = 'conv1', kernel_initializer = glorot_uniform(seed=0))(X)\n",
        "  X = tf.keras.layers.BatchNormalization(axis = -1, name = 'bn_conv1')(X)\n",
        "  X = tf.keras.layers.Activation('relu')(X)\n",
        "  X = tf.keras.layers.MaxPooling2D(pool_size=(3,3),strides=(2,2))(X)\n",
        "\n",
        "  # Stage 2\n",
        "  X = convolutional_block(X,3,[64,64,256],2,'a',s=1)\n",
        "  X = identity_block(X,3,[64,64,256],2,'b')\n",
        "  X = identity_block(X,3,[64,64,256],2,'c')\n",
        "\n",
        "  # Stage 3\n",
        "  X = convolutional_block(X,3,[128,128,512],3,'a',s=2)\n",
        "  X = identity_block(X,3,[128,128,512],3,'b')\n",
        "  X = identity_block(X,3,[128,128,512],3,'c')\n",
        "  X = identity_block(X,3,[128,128,512],3,'d')\n",
        "\n",
        "  # Stage 4\n",
        "  X = convolutional_block(X,3,[256,256,1024],4,'a',s=2)\n",
        "  X = identity_block(X,3,[256,256,1024],4,'b')\n",
        "  X = identity_block(X,3,[256,256,1024],4,'c')\n",
        "  X = identity_block(X,3,[256,256,1024],4,'d')\n",
        "  X = identity_block(X,3,[256,256,1024],4,'e')\n",
        "  X = identity_block(X,3,[256,256,1024],4,'f')\n",
        "\n",
        "  # Stage 5\n",
        "  X = convolutional_block(X,3,[512,512,2048],5,'a',s=2)\n",
        "  X = identity_block(X,3,[512,512,2048],5,'b')\n",
        "  X = identity_block(X,3,[512,512,2048],5,'c')\n",
        "\n",
        "  #Output\n",
        "  X = tf.keras.layers.AveragePooling2D(name='avg_pool')(X)\n",
        "  X = tf.keras.layers.Flatten()(X)\n",
        "  X = tf.keras.layers.Dense(classes,activation='softmax',name ='fc' + str(classes),kernel_initializer = glorot_uniform(seed=0))(X)\n",
        "\n",
        "  model = tf.keras.Model(inputs = X_input,outputs = X, name = 'ResNet50')\n",
        "\n",
        "  return model"
      ]
    },
    {
      "cell_type": "code",
      "execution_count": null,
      "metadata": {
        "id": "f0W4ydNgdTvH"
      },
      "outputs": [],
      "source": [
        "model = ResNet50(input_shape=(64,64,3),classes=38)"
      ]
    },
    {
      "cell_type": "markdown",
      "metadata": {
        "id": "TFwGNJ2a2Fju"
      },
      "source": [
        "## 3 Visualising the Model Architecture"
      ]
    },
    {
      "cell_type": "code",
      "execution_count": null,
      "metadata": {
        "colab": {
          "base_uri": "https://localhost:8080/"
        },
        "id": "TNNsrIpo1trv",
        "outputId": "e4c28b14-3231-41f4-eb52-1e7bf00bfddc"
      },
      "outputs": [
        {
          "name": "stdout",
          "output_type": "stream",
          "text": [
            "Model: \"ResNet50\"\n",
            "__________________________________________________________________________________________________\n",
            " Layer (type)                Output Shape                 Param #   Connected to                  \n",
            "==================================================================================================\n",
            " input_1 (InputLayer)        [(None, 64, 64, 3)]          0         []                            \n",
            "                                                                                                  \n",
            " zero_padding2d (ZeroPaddin  (None, 70, 70, 3)            0         ['input_1[0][0]']             \n",
            " g2D)                                                                                             \n",
            "                                                                                                  \n",
            " conv1 (Conv2D)              (None, 32, 32, 64)           9472      ['zero_padding2d[0][0]']      \n",
            "                                                                                                  \n",
            " bn_conv1 (BatchNormalizati  (None, 32, 32, 64)           256       ['conv1[0][0]']               \n",
            " on)                                                                                              \n",
            "                                                                                                  \n",
            " activation_6 (Activation)   (None, 32, 32, 64)           0         ['bn_conv1[0][0]']            \n",
            "                                                                                                  \n",
            " max_pooling2d (MaxPooling2  (None, 15, 15, 64)           0         ['activation_6[0][0]']        \n",
            " D)                                                                                               \n",
            "                                                                                                  \n",
            " res2a_branch2a (Conv2D)     (None, 15, 15, 64)           4160      ['max_pooling2d[0][0]']       \n",
            "                                                                                                  \n",
            " bn2a_branch2a (BatchNormal  (None, 15, 15, 64)           256       ['res2a_branch2a[0][0]']      \n",
            " ization)                                                                                         \n",
            "                                                                                                  \n",
            " activation_7 (Activation)   (None, 15, 15, 64)           0         ['bn2a_branch2a[0][0]']       \n",
            "                                                                                                  \n",
            " res2a_branch2b (Conv2D)     (None, 15, 15, 64)           4160      ['activation_7[0][0]']        \n",
            "                                                                                                  \n",
            " bn2a_branch2b (BatchNormal  (None, 15, 15, 64)           256       ['res2a_branch2b[0][0]']      \n",
            " ization)                                                                                         \n",
            "                                                                                                  \n",
            " activation_8 (Activation)   (None, 15, 15, 64)           0         ['bn2a_branch2b[0][0]']       \n",
            "                                                                                                  \n",
            " res2a_branch2c (Conv2D)     (None, 15, 15, 256)          16640     ['activation_8[0][0]']        \n",
            "                                                                                                  \n",
            " res2a_branch1 (Conv2D)      (None, 15, 15, 256)          16640     ['max_pooling2d[0][0]']       \n",
            "                                                                                                  \n",
            " bn2a_branch2c (BatchNormal  (None, 15, 15, 256)          1024      ['res2a_branch2c[0][0]']      \n",
            " ization)                                                                                         \n",
            "                                                                                                  \n",
            " bn2a_branch1 (BatchNormali  (None, 15, 15, 256)          1024      ['res2a_branch1[0][0]']       \n",
            " zation)                                                                                          \n",
            "                                                                                                  \n",
            " add_2 (Add)                 (None, 15, 15, 256)          0         ['bn2a_branch2c[0][0]',       \n",
            "                                                                     'bn2a_branch1[0][0]']        \n",
            "                                                                                                  \n",
            " activation_9 (Activation)   (None, 15, 15, 256)          0         ['add_2[0][0]']               \n",
            "                                                                                                  \n",
            " res2b_branch2a (Conv2D)     (None, 15, 15, 64)           16448     ['activation_9[0][0]']        \n",
            "                                                                                                  \n",
            " bn2b_branch2a (BatchNormal  (None, 15, 15, 64)           256       ['res2b_branch2a[0][0]']      \n",
            " ization)                                                                                         \n",
            "                                                                                                  \n",
            " activation_10 (Activation)  (None, 15, 15, 64)           0         ['bn2b_branch2a[0][0]']       \n",
            "                                                                                                  \n",
            " res2b_branch2b (Conv2D)     (None, 15, 15, 64)           36928     ['activation_10[0][0]']       \n",
            "                                                                                                  \n",
            " bn2b_branch2b (BatchNormal  (None, 15, 15, 64)           256       ['res2b_branch2b[0][0]']      \n",
            " ization)                                                                                         \n",
            "                                                                                                  \n",
            " activation_11 (Activation)  (None, 15, 15, 64)           0         ['bn2b_branch2b[0][0]']       \n",
            "                                                                                                  \n",
            " res2b_branch2c (Conv2D)     (None, 15, 15, 256)          16640     ['activation_11[0][0]']       \n",
            "                                                                                                  \n",
            " bn2b_branch2c (BatchNormal  (None, 15, 15, 256)          1024      ['res2b_branch2c[0][0]']      \n",
            " ization)                                                                                         \n",
            "                                                                                                  \n",
            " add_3 (Add)                 (None, 15, 15, 256)          0         ['bn2b_branch2c[0][0]',       \n",
            "                                                                     'activation_9[0][0]']        \n",
            "                                                                                                  \n",
            " activation_12 (Activation)  (None, 15, 15, 256)          0         ['add_3[0][0]']               \n",
            "                                                                                                  \n",
            " res2c_branch2a (Conv2D)     (None, 15, 15, 64)           16448     ['activation_12[0][0]']       \n",
            "                                                                                                  \n",
            " bn2c_branch2a (BatchNormal  (None, 15, 15, 64)           256       ['res2c_branch2a[0][0]']      \n",
            " ization)                                                                                         \n",
            "                                                                                                  \n",
            " activation_13 (Activation)  (None, 15, 15, 64)           0         ['bn2c_branch2a[0][0]']       \n",
            "                                                                                                  \n",
            " res2c_branch2b (Conv2D)     (None, 15, 15, 64)           36928     ['activation_13[0][0]']       \n",
            "                                                                                                  \n",
            " bn2c_branch2b (BatchNormal  (None, 15, 15, 64)           256       ['res2c_branch2b[0][0]']      \n",
            " ization)                                                                                         \n",
            "                                                                                                  \n",
            " activation_14 (Activation)  (None, 15, 15, 64)           0         ['bn2c_branch2b[0][0]']       \n",
            "                                                                                                  \n",
            " res2c_branch2c (Conv2D)     (None, 15, 15, 256)          16640     ['activation_14[0][0]']       \n",
            "                                                                                                  \n",
            " bn2c_branch2c (BatchNormal  (None, 15, 15, 256)          1024      ['res2c_branch2c[0][0]']      \n",
            " ization)                                                                                         \n",
            "                                                                                                  \n",
            " add_4 (Add)                 (None, 15, 15, 256)          0         ['bn2c_branch2c[0][0]',       \n",
            "                                                                     'activation_12[0][0]']       \n",
            "                                                                                                  \n",
            " activation_15 (Activation)  (None, 15, 15, 256)          0         ['add_4[0][0]']               \n",
            "                                                                                                  \n",
            " res3a_branch2a (Conv2D)     (None, 8, 8, 128)            32896     ['activation_15[0][0]']       \n",
            "                                                                                                  \n",
            " bn3a_branch2a (BatchNormal  (None, 8, 8, 128)            512       ['res3a_branch2a[0][0]']      \n",
            " ization)                                                                                         \n",
            "                                                                                                  \n",
            " activation_16 (Activation)  (None, 8, 8, 128)            0         ['bn3a_branch2a[0][0]']       \n",
            "                                                                                                  \n",
            " res3a_branch2b (Conv2D)     (None, 8, 8, 128)            16512     ['activation_16[0][0]']       \n",
            "                                                                                                  \n",
            " bn3a_branch2b (BatchNormal  (None, 8, 8, 128)            512       ['res3a_branch2b[0][0]']      \n",
            " ization)                                                                                         \n",
            "                                                                                                  \n",
            " activation_17 (Activation)  (None, 8, 8, 128)            0         ['bn3a_branch2b[0][0]']       \n",
            "                                                                                                  \n",
            " res3a_branch2c (Conv2D)     (None, 8, 8, 512)            66048     ['activation_17[0][0]']       \n",
            "                                                                                                  \n",
            " res3a_branch1 (Conv2D)      (None, 8, 8, 512)            131584    ['activation_15[0][0]']       \n",
            "                                                                                                  \n",
            " bn3a_branch2c (BatchNormal  (None, 8, 8, 512)            2048      ['res3a_branch2c[0][0]']      \n",
            " ization)                                                                                         \n",
            "                                                                                                  \n",
            " bn3a_branch1 (BatchNormali  (None, 8, 8, 512)            2048      ['res3a_branch1[0][0]']       \n",
            " zation)                                                                                          \n",
            "                                                                                                  \n",
            " add_5 (Add)                 (None, 8, 8, 512)            0         ['bn3a_branch2c[0][0]',       \n",
            "                                                                     'bn3a_branch1[0][0]']        \n",
            "                                                                                                  \n",
            " activation_18 (Activation)  (None, 8, 8, 512)            0         ['add_5[0][0]']               \n",
            "                                                                                                  \n",
            " res3b_branch2a (Conv2D)     (None, 8, 8, 128)            65664     ['activation_18[0][0]']       \n",
            "                                                                                                  \n",
            " bn3b_branch2a (BatchNormal  (None, 8, 8, 128)            512       ['res3b_branch2a[0][0]']      \n",
            " ization)                                                                                         \n",
            "                                                                                                  \n",
            " activation_19 (Activation)  (None, 8, 8, 128)            0         ['bn3b_branch2a[0][0]']       \n",
            "                                                                                                  \n",
            " res3b_branch2b (Conv2D)     (None, 8, 8, 128)            147584    ['activation_19[0][0]']       \n",
            "                                                                                                  \n",
            " bn3b_branch2b (BatchNormal  (None, 8, 8, 128)            512       ['res3b_branch2b[0][0]']      \n",
            " ization)                                                                                         \n",
            "                                                                                                  \n",
            " activation_20 (Activation)  (None, 8, 8, 128)            0         ['bn3b_branch2b[0][0]']       \n",
            "                                                                                                  \n",
            " res3b_branch2c (Conv2D)     (None, 8, 8, 512)            66048     ['activation_20[0][0]']       \n",
            "                                                                                                  \n",
            " bn3b_branch2c (BatchNormal  (None, 8, 8, 512)            2048      ['res3b_branch2c[0][0]']      \n",
            " ization)                                                                                         \n",
            "                                                                                                  \n",
            " add_6 (Add)                 (None, 8, 8, 512)            0         ['bn3b_branch2c[0][0]',       \n",
            "                                                                     'activation_18[0][0]']       \n",
            "                                                                                                  \n",
            " activation_21 (Activation)  (None, 8, 8, 512)            0         ['add_6[0][0]']               \n",
            "                                                                                                  \n",
            " res3c_branch2a (Conv2D)     (None, 8, 8, 128)            65664     ['activation_21[0][0]']       \n",
            "                                                                                                  \n",
            " bn3c_branch2a (BatchNormal  (None, 8, 8, 128)            512       ['res3c_branch2a[0][0]']      \n",
            " ization)                                                                                         \n",
            "                                                                                                  \n",
            " activation_22 (Activation)  (None, 8, 8, 128)            0         ['bn3c_branch2a[0][0]']       \n",
            "                                                                                                  \n",
            " res3c_branch2b (Conv2D)     (None, 8, 8, 128)            147584    ['activation_22[0][0]']       \n",
            "                                                                                                  \n",
            " bn3c_branch2b (BatchNormal  (None, 8, 8, 128)            512       ['res3c_branch2b[0][0]']      \n",
            " ization)                                                                                         \n",
            "                                                                                                  \n",
            " activation_23 (Activation)  (None, 8, 8, 128)            0         ['bn3c_branch2b[0][0]']       \n",
            "                                                                                                  \n",
            " res3c_branch2c (Conv2D)     (None, 8, 8, 512)            66048     ['activation_23[0][0]']       \n",
            "                                                                                                  \n",
            " bn3c_branch2c (BatchNormal  (None, 8, 8, 512)            2048      ['res3c_branch2c[0][0]']      \n",
            " ization)                                                                                         \n",
            "                                                                                                  \n",
            " add_7 (Add)                 (None, 8, 8, 512)            0         ['bn3c_branch2c[0][0]',       \n",
            "                                                                     'activation_21[0][0]']       \n",
            "                                                                                                  \n",
            " activation_24 (Activation)  (None, 8, 8, 512)            0         ['add_7[0][0]']               \n",
            "                                                                                                  \n",
            " res3d_branch2a (Conv2D)     (None, 8, 8, 128)            65664     ['activation_24[0][0]']       \n",
            "                                                                                                  \n",
            " bn3d_branch2a (BatchNormal  (None, 8, 8, 128)            512       ['res3d_branch2a[0][0]']      \n",
            " ization)                                                                                         \n",
            "                                                                                                  \n",
            " activation_25 (Activation)  (None, 8, 8, 128)            0         ['bn3d_branch2a[0][0]']       \n",
            "                                                                                                  \n",
            " res3d_branch2b (Conv2D)     (None, 8, 8, 128)            147584    ['activation_25[0][0]']       \n",
            "                                                                                                  \n",
            " bn3d_branch2b (BatchNormal  (None, 8, 8, 128)            512       ['res3d_branch2b[0][0]']      \n",
            " ization)                                                                                         \n",
            "                                                                                                  \n",
            " activation_26 (Activation)  (None, 8, 8, 128)            0         ['bn3d_branch2b[0][0]']       \n",
            "                                                                                                  \n",
            " res3d_branch2c (Conv2D)     (None, 8, 8, 512)            66048     ['activation_26[0][0]']       \n",
            "                                                                                                  \n",
            " bn3d_branch2c (BatchNormal  (None, 8, 8, 512)            2048      ['res3d_branch2c[0][0]']      \n",
            " ization)                                                                                         \n",
            "                                                                                                  \n",
            " add_8 (Add)                 (None, 8, 8, 512)            0         ['bn3d_branch2c[0][0]',       \n",
            "                                                                     'activation_24[0][0]']       \n",
            "                                                                                                  \n",
            " activation_27 (Activation)  (None, 8, 8, 512)            0         ['add_8[0][0]']               \n",
            "                                                                                                  \n",
            " res4a_branch2a (Conv2D)     (None, 4, 4, 256)            131328    ['activation_27[0][0]']       \n",
            "                                                                                                  \n",
            " bn4a_branch2a (BatchNormal  (None, 4, 4, 256)            1024      ['res4a_branch2a[0][0]']      \n",
            " ization)                                                                                         \n",
            "                                                                                                  \n",
            " activation_28 (Activation)  (None, 4, 4, 256)            0         ['bn4a_branch2a[0][0]']       \n",
            "                                                                                                  \n",
            " res4a_branch2b (Conv2D)     (None, 4, 4, 256)            65792     ['activation_28[0][0]']       \n",
            "                                                                                                  \n",
            " bn4a_branch2b (BatchNormal  (None, 4, 4, 256)            1024      ['res4a_branch2b[0][0]']      \n",
            " ization)                                                                                         \n",
            "                                                                                                  \n",
            " activation_29 (Activation)  (None, 4, 4, 256)            0         ['bn4a_branch2b[0][0]']       \n",
            "                                                                                                  \n",
            " res4a_branch2c (Conv2D)     (None, 4, 4, 1024)           263168    ['activation_29[0][0]']       \n",
            "                                                                                                  \n",
            " res4a_branch1 (Conv2D)      (None, 4, 4, 1024)           525312    ['activation_27[0][0]']       \n",
            "                                                                                                  \n",
            " bn4a_branch2c (BatchNormal  (None, 4, 4, 1024)           4096      ['res4a_branch2c[0][0]']      \n",
            " ization)                                                                                         \n",
            "                                                                                                  \n",
            " bn4a_branch1 (BatchNormali  (None, 4, 4, 1024)           4096      ['res4a_branch1[0][0]']       \n",
            " zation)                                                                                          \n",
            "                                                                                                  \n",
            " add_9 (Add)                 (None, 4, 4, 1024)           0         ['bn4a_branch2c[0][0]',       \n",
            "                                                                     'bn4a_branch1[0][0]']        \n",
            "                                                                                                  \n",
            " activation_30 (Activation)  (None, 4, 4, 1024)           0         ['add_9[0][0]']               \n",
            "                                                                                                  \n",
            " res4b_branch2a (Conv2D)     (None, 4, 4, 256)            262400    ['activation_30[0][0]']       \n",
            "                                                                                                  \n",
            " bn4b_branch2a (BatchNormal  (None, 4, 4, 256)            1024      ['res4b_branch2a[0][0]']      \n",
            " ization)                                                                                         \n",
            "                                                                                                  \n",
            " activation_31 (Activation)  (None, 4, 4, 256)            0         ['bn4b_branch2a[0][0]']       \n",
            "                                                                                                  \n",
            " res4b_branch2b (Conv2D)     (None, 4, 4, 256)            590080    ['activation_31[0][0]']       \n",
            "                                                                                                  \n",
            " bn4b_branch2b (BatchNormal  (None, 4, 4, 256)            1024      ['res4b_branch2b[0][0]']      \n",
            " ization)                                                                                         \n",
            "                                                                                                  \n",
            " activation_32 (Activation)  (None, 4, 4, 256)            0         ['bn4b_branch2b[0][0]']       \n",
            "                                                                                                  \n",
            " res4b_branch2c (Conv2D)     (None, 4, 4, 1024)           263168    ['activation_32[0][0]']       \n",
            "                                                                                                  \n",
            " bn4b_branch2c (BatchNormal  (None, 4, 4, 1024)           4096      ['res4b_branch2c[0][0]']      \n",
            " ization)                                                                                         \n",
            "                                                                                                  \n",
            " add_10 (Add)                (None, 4, 4, 1024)           0         ['bn4b_branch2c[0][0]',       \n",
            "                                                                     'activation_30[0][0]']       \n",
            "                                                                                                  \n",
            " activation_33 (Activation)  (None, 4, 4, 1024)           0         ['add_10[0][0]']              \n",
            "                                                                                                  \n",
            " res4c_branch2a (Conv2D)     (None, 4, 4, 256)            262400    ['activation_33[0][0]']       \n",
            "                                                                                                  \n",
            " bn4c_branch2a (BatchNormal  (None, 4, 4, 256)            1024      ['res4c_branch2a[0][0]']      \n",
            " ization)                                                                                         \n",
            "                                                                                                  \n",
            " activation_34 (Activation)  (None, 4, 4, 256)            0         ['bn4c_branch2a[0][0]']       \n",
            "                                                                                                  \n",
            " res4c_branch2b (Conv2D)     (None, 4, 4, 256)            590080    ['activation_34[0][0]']       \n",
            "                                                                                                  \n",
            " bn4c_branch2b (BatchNormal  (None, 4, 4, 256)            1024      ['res4c_branch2b[0][0]']      \n",
            " ization)                                                                                         \n",
            "                                                                                                  \n",
            " activation_35 (Activation)  (None, 4, 4, 256)            0         ['bn4c_branch2b[0][0]']       \n",
            "                                                                                                  \n",
            " res4c_branch2c (Conv2D)     (None, 4, 4, 1024)           263168    ['activation_35[0][0]']       \n",
            "                                                                                                  \n",
            " bn4c_branch2c (BatchNormal  (None, 4, 4, 1024)           4096      ['res4c_branch2c[0][0]']      \n",
            " ization)                                                                                         \n",
            "                                                                                                  \n",
            " add_11 (Add)                (None, 4, 4, 1024)           0         ['bn4c_branch2c[0][0]',       \n",
            "                                                                     'activation_33[0][0]']       \n",
            "                                                                                                  \n",
            " activation_36 (Activation)  (None, 4, 4, 1024)           0         ['add_11[0][0]']              \n",
            "                                                                                                  \n",
            " res4d_branch2a (Conv2D)     (None, 4, 4, 256)            262400    ['activation_36[0][0]']       \n",
            "                                                                                                  \n",
            " bn4d_branch2a (BatchNormal  (None, 4, 4, 256)            1024      ['res4d_branch2a[0][0]']      \n",
            " ization)                                                                                         \n",
            "                                                                                                  \n",
            " activation_37 (Activation)  (None, 4, 4, 256)            0         ['bn4d_branch2a[0][0]']       \n",
            "                                                                                                  \n",
            " res4d_branch2b (Conv2D)     (None, 4, 4, 256)            590080    ['activation_37[0][0]']       \n",
            "                                                                                                  \n",
            " bn4d_branch2b (BatchNormal  (None, 4, 4, 256)            1024      ['res4d_branch2b[0][0]']      \n",
            " ization)                                                                                         \n",
            "                                                                                                  \n",
            " activation_38 (Activation)  (None, 4, 4, 256)            0         ['bn4d_branch2b[0][0]']       \n",
            "                                                                                                  \n",
            " res4d_branch2c (Conv2D)     (None, 4, 4, 1024)           263168    ['activation_38[0][0]']       \n",
            "                                                                                                  \n",
            " bn4d_branch2c (BatchNormal  (None, 4, 4, 1024)           4096      ['res4d_branch2c[0][0]']      \n",
            " ization)                                                                                         \n",
            "                                                                                                  \n",
            " add_12 (Add)                (None, 4, 4, 1024)           0         ['bn4d_branch2c[0][0]',       \n",
            "                                                                     'activation_36[0][0]']       \n",
            "                                                                                                  \n",
            " activation_39 (Activation)  (None, 4, 4, 1024)           0         ['add_12[0][0]']              \n",
            "                                                                                                  \n",
            " res4e_branch2a (Conv2D)     (None, 4, 4, 256)            262400    ['activation_39[0][0]']       \n",
            "                                                                                                  \n",
            " bn4e_branch2a (BatchNormal  (None, 4, 4, 256)            1024      ['res4e_branch2a[0][0]']      \n",
            " ization)                                                                                         \n",
            "                                                                                                  \n",
            " activation_40 (Activation)  (None, 4, 4, 256)            0         ['bn4e_branch2a[0][0]']       \n",
            "                                                                                                  \n",
            " res4e_branch2b (Conv2D)     (None, 4, 4, 256)            590080    ['activation_40[0][0]']       \n",
            "                                                                                                  \n",
            " bn4e_branch2b (BatchNormal  (None, 4, 4, 256)            1024      ['res4e_branch2b[0][0]']      \n",
            " ization)                                                                                         \n",
            "                                                                                                  \n",
            " activation_41 (Activation)  (None, 4, 4, 256)            0         ['bn4e_branch2b[0][0]']       \n",
            "                                                                                                  \n",
            " res4e_branch2c (Conv2D)     (None, 4, 4, 1024)           263168    ['activation_41[0][0]']       \n",
            "                                                                                                  \n",
            " bn4e_branch2c (BatchNormal  (None, 4, 4, 1024)           4096      ['res4e_branch2c[0][0]']      \n",
            " ization)                                                                                         \n",
            "                                                                                                  \n",
            " add_13 (Add)                (None, 4, 4, 1024)           0         ['bn4e_branch2c[0][0]',       \n",
            "                                                                     'activation_39[0][0]']       \n",
            "                                                                                                  \n",
            " activation_42 (Activation)  (None, 4, 4, 1024)           0         ['add_13[0][0]']              \n",
            "                                                                                                  \n",
            " res4f_branch2a (Conv2D)     (None, 4, 4, 256)            262400    ['activation_42[0][0]']       \n",
            "                                                                                                  \n",
            " bn4f_branch2a (BatchNormal  (None, 4, 4, 256)            1024      ['res4f_branch2a[0][0]']      \n",
            " ization)                                                                                         \n",
            "                                                                                                  \n",
            " activation_43 (Activation)  (None, 4, 4, 256)            0         ['bn4f_branch2a[0][0]']       \n",
            "                                                                                                  \n",
            " res4f_branch2b (Conv2D)     (None, 4, 4, 256)            590080    ['activation_43[0][0]']       \n",
            "                                                                                                  \n",
            " bn4f_branch2b (BatchNormal  (None, 4, 4, 256)            1024      ['res4f_branch2b[0][0]']      \n",
            " ization)                                                                                         \n",
            "                                                                                                  \n",
            " activation_44 (Activation)  (None, 4, 4, 256)            0         ['bn4f_branch2b[0][0]']       \n",
            "                                                                                                  \n",
            " res4f_branch2c (Conv2D)     (None, 4, 4, 1024)           263168    ['activation_44[0][0]']       \n",
            "                                                                                                  \n",
            " bn4f_branch2c (BatchNormal  (None, 4, 4, 1024)           4096      ['res4f_branch2c[0][0]']      \n",
            " ization)                                                                                         \n",
            "                                                                                                  \n",
            " add_14 (Add)                (None, 4, 4, 1024)           0         ['bn4f_branch2c[0][0]',       \n",
            "                                                                     'activation_42[0][0]']       \n",
            "                                                                                                  \n",
            " activation_45 (Activation)  (None, 4, 4, 1024)           0         ['add_14[0][0]']              \n",
            "                                                                                                  \n",
            " res5a_branch2a (Conv2D)     (None, 2, 2, 512)            524800    ['activation_45[0][0]']       \n",
            "                                                                                                  \n",
            " bn5a_branch2a (BatchNormal  (None, 2, 2, 512)            2048      ['res5a_branch2a[0][0]']      \n",
            " ization)                                                                                         \n",
            "                                                                                                  \n",
            " activation_46 (Activation)  (None, 2, 2, 512)            0         ['bn5a_branch2a[0][0]']       \n",
            "                                                                                                  \n",
            " res5a_branch2b (Conv2D)     (None, 2, 2, 512)            262656    ['activation_46[0][0]']       \n",
            "                                                                                                  \n",
            " bn5a_branch2b (BatchNormal  (None, 2, 2, 512)            2048      ['res5a_branch2b[0][0]']      \n",
            " ization)                                                                                         \n",
            "                                                                                                  \n",
            " activation_47 (Activation)  (None, 2, 2, 512)            0         ['bn5a_branch2b[0][0]']       \n",
            "                                                                                                  \n",
            " res5a_branch2c (Conv2D)     (None, 2, 2, 2048)           1050624   ['activation_47[0][0]']       \n",
            "                                                                                                  \n",
            " res5a_branch1 (Conv2D)      (None, 2, 2, 2048)           2099200   ['activation_45[0][0]']       \n",
            "                                                                                                  \n",
            " bn5a_branch2c (BatchNormal  (None, 2, 2, 2048)           8192      ['res5a_branch2c[0][0]']      \n",
            " ization)                                                                                         \n",
            "                                                                                                  \n",
            " bn5a_branch1 (BatchNormali  (None, 2, 2, 2048)           8192      ['res5a_branch1[0][0]']       \n",
            " zation)                                                                                          \n",
            "                                                                                                  \n",
            " add_15 (Add)                (None, 2, 2, 2048)           0         ['bn5a_branch2c[0][0]',       \n",
            "                                                                     'bn5a_branch1[0][0]']        \n",
            "                                                                                                  \n",
            " activation_48 (Activation)  (None, 2, 2, 2048)           0         ['add_15[0][0]']              \n",
            "                                                                                                  \n",
            " res5b_branch2a (Conv2D)     (None, 2, 2, 512)            1049088   ['activation_48[0][0]']       \n",
            "                                                                                                  \n",
            " bn5b_branch2a (BatchNormal  (None, 2, 2, 512)            2048      ['res5b_branch2a[0][0]']      \n",
            " ization)                                                                                         \n",
            "                                                                                                  \n",
            " activation_49 (Activation)  (None, 2, 2, 512)            0         ['bn5b_branch2a[0][0]']       \n",
            "                                                                                                  \n",
            " res5b_branch2b (Conv2D)     (None, 2, 2, 512)            2359808   ['activation_49[0][0]']       \n",
            "                                                                                                  \n",
            " bn5b_branch2b (BatchNormal  (None, 2, 2, 512)            2048      ['res5b_branch2b[0][0]']      \n",
            " ization)                                                                                         \n",
            "                                                                                                  \n",
            " activation_50 (Activation)  (None, 2, 2, 512)            0         ['bn5b_branch2b[0][0]']       \n",
            "                                                                                                  \n",
            " res5b_branch2c (Conv2D)     (None, 2, 2, 2048)           1050624   ['activation_50[0][0]']       \n",
            "                                                                                                  \n",
            " bn5b_branch2c (BatchNormal  (None, 2, 2, 2048)           8192      ['res5b_branch2c[0][0]']      \n",
            " ization)                                                                                         \n",
            "                                                                                                  \n",
            " add_16 (Add)                (None, 2, 2, 2048)           0         ['bn5b_branch2c[0][0]',       \n",
            "                                                                     'activation_48[0][0]']       \n",
            "                                                                                                  \n",
            " activation_51 (Activation)  (None, 2, 2, 2048)           0         ['add_16[0][0]']              \n",
            "                                                                                                  \n",
            " res5c_branch2a (Conv2D)     (None, 2, 2, 512)            1049088   ['activation_51[0][0]']       \n",
            "                                                                                                  \n",
            " bn5c_branch2a (BatchNormal  (None, 2, 2, 512)            2048      ['res5c_branch2a[0][0]']      \n",
            " ization)                                                                                         \n",
            "                                                                                                  \n",
            " activation_52 (Activation)  (None, 2, 2, 512)            0         ['bn5c_branch2a[0][0]']       \n",
            "                                                                                                  \n",
            " res5c_branch2b (Conv2D)     (None, 2, 2, 512)            2359808   ['activation_52[0][0]']       \n",
            "                                                                                                  \n",
            " bn5c_branch2b (BatchNormal  (None, 2, 2, 512)            2048      ['res5c_branch2b[0][0]']      \n",
            " ization)                                                                                         \n",
            "                                                                                                  \n",
            " activation_53 (Activation)  (None, 2, 2, 512)            0         ['bn5c_branch2b[0][0]']       \n",
            "                                                                                                  \n",
            " res5c_branch2c (Conv2D)     (None, 2, 2, 2048)           1050624   ['activation_53[0][0]']       \n",
            "                                                                                                  \n",
            " bn5c_branch2c (BatchNormal  (None, 2, 2, 2048)           8192      ['res5c_branch2c[0][0]']      \n",
            " ization)                                                                                         \n",
            "                                                                                                  \n",
            " add_17 (Add)                (None, 2, 2, 2048)           0         ['bn5c_branch2c[0][0]',       \n",
            "                                                                     'activation_51[0][0]']       \n",
            "                                                                                                  \n",
            " activation_54 (Activation)  (None, 2, 2, 2048)           0         ['add_17[0][0]']              \n",
            "                                                                                                  \n",
            " avg_pool (AveragePooling2D  (None, 1, 1, 2048)           0         ['activation_54[0][0]']       \n",
            " )                                                                                                \n",
            "                                                                                                  \n",
            " flatten (Flatten)           (None, 2048)                 0         ['avg_pool[0][0]']            \n",
            "                                                                                                  \n",
            " fc38 (Dense)                (None, 38)                   77862     ['flatten[0][0]']             \n",
            "                                                                                                  \n",
            "==================================================================================================\n",
            "Total params: 20880294 (79.65 MB)\n",
            "Trainable params: 20827174 (79.45 MB)\n",
            "Non-trainable params: 53120 (207.50 KB)\n",
            "__________________________________________________________________________________________________\n"
          ]
        }
      ],
      "source": [
        "model.summary()"
      ]
    },
    {
      "cell_type": "markdown",
      "metadata": {
        "id": "XkoN8FXivmvL"
      },
      "source": [
        "## 4 Loading the Data\n",
        "The dataset consists of 54303 healthy and unhealthy leaf images divided into 38 categories by species and disease."
      ]
    },
    {
      "cell_type": "code",
      "execution_count": null,
      "metadata": {
        "colab": {
          "base_uri": "https://localhost:8080/"
        },
        "id": "fC6ukOjbvmvh",
        "outputId": "f3f964aa-f17a-46fb-bd44-053465d54598"
      },
      "outputs": [
        {
          "data": {
            "text/plain": [
              "<_PrefetchDataset element_spec=(TensorSpec(shape=(None, None, 3), dtype=tf.uint8, name=None), TensorSpec(shape=(), dtype=tf.int64, name=None))>"
            ]
          },
          "execution_count": 10,
          "metadata": {},
          "output_type": "execute_result"
        }
      ],
      "source": [
        "# Loading the data\n",
        "dataset = tfds.load('plant_village',split='train', shuffle_files=True, as_supervised=True)\n",
        "dataset"
      ]
    },
    {
      "cell_type": "code",
      "execution_count": null,
      "metadata": {
        "colab": {
          "base_uri": "https://localhost:8080/"
        },
        "id": "-1_UnblQhTjH",
        "outputId": "e2d55fd6-1334-487f-888c-68c4151b4dc4"
      },
      "outputs": [
        {
          "data": {
            "text/plain": [
              "<_BatchDataset element_spec=(TensorSpec(shape=(None, 64, 64, 3), dtype=tf.float32, name=None), TensorSpec(shape=(None,), dtype=tf.int64, name=None))>"
            ]
          },
          "execution_count": 11,
          "metadata": {},
          "output_type": "execute_result"
        }
      ],
      "source": [
        "dataset = dataset.map(lambda img,cls: (tf.image.resize(img/255,(64,64)),cls))\n",
        "dataset = dataset.batch(8)\n",
        "dataset"
      ]
    },
    {
      "cell_type": "code",
      "execution_count": null,
      "metadata": {
        "id": "1LuGncNjqHyp"
      },
      "outputs": [],
      "source": [
        "# Splitting the dataset into train and test sets\n",
        "train_data = dataset.skip(625)\n",
        "test_data = dataset.take(625)"
      ]
    },
    {
      "cell_type": "code",
      "execution_count": null,
      "metadata": {
        "colab": {
          "base_uri": "https://localhost:8080/",
          "height": 332
        },
        "id": "AfpA68yd3_CY",
        "outputId": "c3c382fb-91f8-46da-9649-7ce497f95e07"
      },
      "outputs": [
        {
          "name": "stdout",
          "output_type": "stream",
          "text": [
            "Shape: (8, 64, 64, 3)\n",
            "Class: 11\n"
          ]
        },
        {
          "data": {
            "image/png": "[encoded data removed]",
            "text/plain": [
              "<Figure size 300x300 with 1 Axes>"
            ]
          },
          "metadata": {},
          "output_type": "display_data"
        }
      ],
      "source": [
        "# Viewing the data\n",
        "itr = train_data.as_numpy_iterator()\n",
        "img,cls = next(itr)\n",
        "print('Shape:',img.shape)\n",
        "\n",
        "print('Class:',cls[0])\n",
        "fig,ax = plt.subplots(1,1,figsize=[3,3])\n",
        "ax.imshow(img[0])\n",
        "fig.show()"
      ]
    },
    {
      "cell_type": "markdown",
      "metadata": {
        "id": "a40T5gHZvmvm"
      },
      "source": [
        "## 5 Training the ResNet-50 Model"
      ]
    },
    {
      "cell_type": "code",
      "execution_count": null,
      "metadata": {
        "id": "vJk_u4IJ1oWW"
      },
      "outputs": [],
      "source": [
        "# Specifying the training configuration\n",
        "model.compile(optimizer='adam',loss=tf.keras.losses.SparseCategoricalCrossentropy(),metrics=tf.keras.metrics.SparseCategoricalAccuracy())"
      ]
    },
    {
      "cell_type": "code",
      "execution_count": null,
      "metadata": {
        "colab": {
          "base_uri": "https://localhost:8080/"
        },
        "id": "rwyNcXfwMXcZ",
        "outputId": "0aec3096-202b-443c-f51d-efa3eb29c53c"
      },
      "outputs": [
        {
          "name": "stdout",
          "output_type": "stream",
          "text": [
            "Epoch 1/3\n",
            "6163/6163 [==============================] - 340s 47ms/step - loss: 1.9354 - sparse_categorical_accuracy: 0.4990\n",
            "Epoch 2/3\n",
            "6163/6163 [==============================] - 289s 46ms/step - loss: 0.8897 - sparse_categorical_accuracy: 0.7224\n",
            "Epoch 3/3\n",
            "6163/6163 [==============================] - 287s 46ms/step - loss: 0.5638 - sparse_categorical_accuracy: 0.8205\n"
          ]
        }
      ],
      "source": [
        "# Fitting the model on the training data\n",
        "history = model.fit(train_data,epochs=3)"
      ]
    },
    {
      "cell_type": "code",
      "execution_count": null,
      "metadata": {
        "colab": {
          "base_uri": "https://localhost:8080/"
        },
        "id": "816HJTgjNh_1",
        "outputId": "210b774b-2e4e-4e01-dfdf-7d6e9f71fa6c"
      },
      "outputs": [
        {
          "data": {
            "text/plain": [
              "{'loss': [1.9354093074798584, 0.8897064924240112, 0.5637920498847961],\n",
              " 'sparse_categorical_accuracy': [0.4989554286003113,\n",
              "  0.7224307060241699,\n",
              "  0.8204571604728699]}"
            ]
          },
          "execution_count": 16,
          "metadata": {},
          "output_type": "execute_result"
        }
      ],
      "source": [
        "history.history"
      ]
    },
    {
      "cell_type": "markdown",
      "metadata": {
        "id": "HSNiP5RY1Rl5"
      },
      "source": [
        "## 6 Evaluating the Model on the Test Data"
      ]
    },
    {
      "cell_type": "code",
      "execution_count": null,
      "metadata": {
        "colab": {
          "base_uri": "https://localhost:8080/"
        },
        "id": "OG8uzVrvtVW-",
        "outputId": "c96c0ed8-3107-457d-a507-1a08af75e711"
      },
      "outputs": [
        {
          "name": "stdout",
          "output_type": "stream",
          "text": [
            "625/625 [==============================] - 10s 13ms/step - loss: 1.4301 - sparse_categorical_accuracy: 0.7702\n"
          ]
        },
        {
          "data": {
            "text/plain": [
              "[1.4301254749298096, 0.7702000141143799]"
            ]
          },
          "execution_count": 17,
          "metadata": {},
          "output_type": "execute_result"
        }
      ],
      "source": [
        "# Calculating the test loss and accuracy\n",
        "model.evaluate(test_data)"
      ]
    },
    {
      "cell_type": "code",
      "execution_count": null,
      "metadata": {
        "id": "-CcaMOCL2oR8"
      },
      "outputs": [],
      "source": [
        "# Generating predictions for 8 samples\n",
        "itr_test = test_data.as_numpy_iterator()\n",
        "img,cls = next(itr_test)"
      ]
    },
    {
      "cell_type": "code",
      "execution_count": null,
      "metadata": {
        "colab": {
          "base_uri": "https://localhost:8080/"
        },
        "id": "lrYh0e3s3dM-",
        "outputId": "6e1723f3-0bda-4252-f107-a6bbe1fa313e"
      },
      "outputs": [
        {
          "data": {
            "text/plain": [
              "array([24, 28,  3, 27, 27,  4, 24, 15])"
            ]
          },
          "execution_count": 19,
          "metadata": {},
          "output_type": "execute_result"
        }
      ],
      "source": [
        "# Actual classes\n",
        "cls"
      ]
    },
    {
      "cell_type": "code",
      "execution_count": null,
      "metadata": {
        "colab": {
          "base_uri": "https://localhost:8080/"
        },
        "id": "HmCm1McA3Vmh",
        "outputId": "1863a3f5-4d65-4b8f-f236-9e6559d24651"
      },
      "outputs": [
        {
          "name": "stdout",
          "output_type": "stream",
          "text": [
            "1/1 [==============================] - 1s 939ms/step\n"
          ]
        },
        {
          "data": {
            "text/plain": [
              "array([24, 28, 24, 27, 10,  4, 24, 15])"
            ]
          },
          "execution_count": 20,
          "metadata": {},
          "output_type": "execute_result"
        }
      ],
      "source": [
        "# Predicted classes\n",
        "cls_preds = model.predict(img)\n",
        "np.argmax(cls_preds,1)"
      ]
    },
    {
      "cell_type": "markdown",
      "metadata": {
        "id": "xOMB423roiGM"
      },
      "source": [
        "## 7 Conclusion\n",
        "Thus, the final ResNet-50 model has over 40M parameters and achieved training and test accuracies of 82.04% and 77.02%, respectively."
      ]
    }
  ],
  "metadata": {
    "accelerator": "GPU",
    "colab": {
      "gpuType": "T4",
      "provenance": [],
      "toc_visible": true
    },
    "kernelspec": {
      "display_name": "Python 3",
      "name": "python3"
    },
    "language_info": {
      "codemirror_mode": {
        "name": "ipython",
        "version": 3
      },
      "file_extension": ".py",
      "mimetype": "text/x-python",
      "name": "python",
      "nbconvert_exporter": "python",
      "pygments_lexer": "ipython3",
      "version": "3.9.18"
    },
    "orig_nbformat": 4
  },
  "nbformat": 4,
  "nbformat_minor": 0
}
