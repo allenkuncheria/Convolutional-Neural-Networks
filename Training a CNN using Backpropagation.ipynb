{
 "cells": [
  {
   "cell_type": "markdown",
   "metadata": {},
   "source": [
    "# Training a CNN using Backpropagation\n",
    "The following code implements a variant of the popular convolutional neural network, LeNet-5, using the TensorFlow Core API on the MNIST dataset."
   ]
  },
  {
   "cell_type": "markdown",
   "metadata": {},
   "source": [
    "## 1 Loading the Data\n",
    "The dataset contains images of 60,000 handwritten digits for training and 10,000 for testing."
   ]
  },
  {
   "cell_type": "code",
   "execution_count": 1,
   "metadata": {},
   "outputs": [
    {
     "name": "stderr",
     "output_type": "stream",
     "text": [
      "2023-08-12 09:23:23.766583: I tensorflow/tsl/cuda/cudart_stub.cc:28] Could not find cuda drivers on your machine, GPU will not be used.\n",
      "2023-08-12 09:23:23.840087: I tensorflow/tsl/cuda/cudart_stub.cc:28] Could not find cuda drivers on your machine, GPU will not be used.\n",
      "2023-08-12 09:23:23.841481: I tensorflow/core/platform/cpu_feature_guard.cc:182] This TensorFlow binary is optimized to use available CPU instructions in performance-critical operations.\n",
      "To enable the following instructions: AVX2 FMA, in other operations, rebuild TensorFlow with the appropriate compiler flags.\n",
      "2023-08-12 09:23:24.927273: W tensorflow/compiler/tf2tensorrt/utils/py_utils.cc:38] TF-TRT Warning: Could not find TensorRT\n"
     ]
    }
   ],
   "source": [
    "# Importing libraries\n",
    "import numpy as np\n",
    "import tensorflow as tf\n",
    "import matplotlib.pyplot as plt\n",
    "import warnings\n",
    "warnings.filterwarnings('ignore')"
   ]
  },
  {
   "cell_type": "code",
   "execution_count": 2,
   "metadata": {},
   "outputs": [],
   "source": [
    "(x_train, y_train), (x_test, y_test) = tf.keras.datasets.mnist.load_data()"
   ]
  },
  {
   "cell_type": "code",
   "execution_count": 3,
   "metadata": {},
   "outputs": [
    {
     "name": "stdout",
     "output_type": "stream",
     "text": [
      "Shape of x_train: (60000, 28, 28)\n",
      "Shape of y_train: (60000,)\n",
      "Shape of x_test: (10000, 28, 28)\n",
      "Shape of y_test: (10000,)\n"
     ]
    }
   ],
   "source": [
    "# Printing shapes\n",
    "print(\"Shape of x_train:\",x_train.shape)\n",
    "print(\"Shape of y_train:\",y_train.shape)\n",
    "print(\"Shape of x_test:\",x_test.shape)\n",
    "print(\"Shape of y_test:\",y_test.shape)"
   ]
  },
  {
   "cell_type": "code",
   "execution_count": 4,
   "metadata": {},
   "outputs": [],
   "source": [
    "x_train = x_train.reshape((60000,28,28,1)).astype(float)\n",
    "y_train = y_train.reshape((60000,1))\n",
    "x_test = x_test.reshape((10000,28,28,1)).astype(float)\n",
    "y_test = y_test.reshape((10000,1))"
   ]
  },
  {
   "cell_type": "code",
   "execution_count": 5,
   "metadata": {},
   "outputs": [
    {
     "name": "stdout",
     "output_type": "stream",
     "text": [
      "Label: [8]\n"
     ]
    },
    {
     "data": {
      "text/plain": [
       "<matplotlib.image.AxesImage at 0x7f67a99e90a0>"
      ]
     },
     "execution_count": 5,
     "metadata": {},
     "output_type": "execute_result"
    },
    {
     "data": {
      "image/png": "[encoded data removed]",
      "text/plain": [
       "<Figure size 432x288 with 1 Axes>"
      ]
     },
     "metadata": {
      "needs_background": "light"
     },
     "output_type": "display_data"
    }
   ],
   "source": [
    "i = np.random.randint(0,60000)\n",
    "print(\"Label:\",y_train[i,:])\n",
    "plt.imshow(x_train[i,:,:,:],cmap='gray')"
   ]
  },
  {
   "cell_type": "markdown",
   "metadata": {},
   "source": [
    "## 2 Defining a Data Generator"
   ]
  },
  {
   "cell_type": "code",
   "execution_count": 6,
   "metadata": {},
   "outputs": [],
   "source": [
    "batch_size = 64\n",
    "\n",
    "def gen_batch(x,y,batch_size):\n",
    "    batch_num = y.shape[0]//batch_size if y.shape[0]%batch_size == 0 else y.shape[0]//batch_size + 1\n",
    "    i = 0\n",
    "    \n",
    "    while True:\n",
    "        x_batch = x[batch_size*i:batch_size*(i+1),:,:]\n",
    "        y_batch = y[batch_size*i:batch_size*(i+1),:]\n",
    "        yield x_batch,y_batch\n",
    "        i = (i + 1)%batch_num"
   ]
  },
  {
   "cell_type": "markdown",
   "metadata": {},
   "source": [
    "## 3 Training the CNN using Backpropagation"
   ]
  },
  {
   "cell_type": "code",
   "execution_count": 7,
   "metadata": {},
   "outputs": [],
   "source": [
    "# Initialising the paramaters of the neural network with Xavier initialisation\n",
    "W1, W2, W3, W4, W5 = tf.random.normal((5,5,1,6))*tf.math.sqrt(1/25),tf.random.normal((5,5,6,16))*tf.math.sqrt(1/150),tf.random.normal((120,256))*tf.math.sqrt(1/256),tf.random.normal((84,120))*tf.math.sqrt(1/120),tf.random.normal((10,84))*tf.math.sqrt(1/84)\n",
    "b1, b2, b3, b4, b5 = tf.zeros((1,6)),tf.zeros((1,16)),tf.zeros((120,1)),tf.zeros((84,1)),tf.zeros((10,1))\n",
    "\n",
    "W1, W2, W3, W4, W5 = tf.Variable(W1), tf.Variable(W2), tf.Variable(W3), tf.Variable(W4), tf.Variable(W5)\n",
    "b1, b2, b3, b4, b5 = tf.Variable(b1), tf.Variable(b2), tf.Variable(b3), tf.Variable(b4), tf.Variable(b5)"
   ]
  },
  {
   "cell_type": "code",
   "execution_count": 8,
   "metadata": {},
   "outputs": [],
   "source": [
    "# Initialising the optimiser\n",
    "optimizer = tf.keras.optimizers.Adam()"
   ]
  },
  {
   "cell_type": "code",
   "execution_count": 9,
   "metadata": {},
   "outputs": [],
   "source": [
    "# Defining a function to calculate cost\n",
    "def cost_fn():\n",
    "\n",
    "    # Layer 1 (Conv 1 + Pool 1)\n",
    "    Z1 = tf.nn.conv2d(x_batch,W1,1,'VALID') + b1\n",
    "    A1 = tf.nn.relu(Z1)\n",
    "    P1 = tf.nn.max_pool(A1,2,2,'VALID')\n",
    "\n",
    "    # Layer 2 (Conv 2 + Pool 2)\n",
    "    Z2 = tf.nn.conv2d(P1,W2,1,'VALID') + b2\n",
    "    A2 = tf.nn.relu(Z2)\n",
    "    P2 = tf.nn.max_pool(A2,2,2,'VALID')\n",
    "    \n",
    "    # Flatten\n",
    "    F = tf.transpose(tf.reshape(P2,(x_batch.shape[0],-1)))\n",
    "\n",
    "    # Layer 3 (FC 1)\n",
    "    Z3 = W3@F + b3\n",
    "    A3 = tf.nn.relu(Z3)\n",
    "\n",
    "    # Layer 4 (FC 2)\n",
    "    Z4 = W4@A3 + b4\n",
    "    A4 = tf.nn.relu(Z4)\n",
    "\n",
    "    # Layer 5 (Softmax)\n",
    "    Z5 = W5@A4 + b5\n",
    "\n",
    "    cost = 1/y_batch.shape[0]*tf.reduce_sum(tf.keras.metrics.sparse_categorical_crossentropy(y_batch,tf.transpose(Z5),True))\n",
    "\n",
    "    return cost"
   ]
  },
  {
   "cell_type": "code",
   "execution_count": 10,
   "metadata": {},
   "outputs": [],
   "source": [
    "# Training the model\n",
    "iter = 1000\n",
    "cost = np.array([])\n",
    "\n",
    "gen = gen_batch(x_train,y_train,batch_size)\n",
    "\n",
    "for i in np.arange(iter):\n",
    "        x_batch,y_batch = next(gen)\n",
    "        optimizer.minimize(cost_fn,[W1, W2, W3, W4, W5, b1, b2, b3, b4, b5])\n",
    "        cost = np.append(cost,cost_fn())\n",
    "        \n",
    "gen.close()"
   ]
  },
  {
   "cell_type": "code",
   "execution_count": 11,
   "metadata": {},
   "outputs": [
    {
     "data": {
      "image/png": "[encoded data removed]",
      "text/plain": [
       "<Figure size 648x648 with 1 Axes>"
      ]
     },
     "metadata": {
      "needs_background": "light"
     },
     "output_type": "display_data"
    }
   ],
   "source": [
    "fig = plt.figure(figsize=[9,9])\n",
    "ax = fig.add_subplot(1,1,1)\n",
    "ax.plot(np.arange(iter)+1,cost)\n",
    "ax.set_ylabel('Cost')\n",
    "ax.set_xlabel('Iterations')\n",
    "fig.show()"
   ]
  },
  {
   "cell_type": "markdown",
   "metadata": {},
   "source": [
    "## 4 Evaluating the Model on the Training Set"
   ]
  },
  {
   "cell_type": "code",
   "execution_count": 12,
   "metadata": {},
   "outputs": [],
   "source": [
    "# Defining a function to predict the label of an image\n",
    "def predict(x_batch):\n",
    "    \n",
    "    # Layer 1 (Conv 1 + Pool 1)\n",
    "    Z1 = tf.nn.conv2d(x_batch,W1,1,'VALID') + b1\n",
    "    A1 = tf.nn.relu(Z1)\n",
    "    P1 = tf.nn.max_pool(A1,2,2,'VALID')\n",
    "\n",
    "    # Layer 2 (Conv 2 + Pool 2)\n",
    "    Z2 = tf.nn.conv2d(P1,W2,1,'VALID') + b2\n",
    "    A2 = tf.nn.relu(Z2)\n",
    "    P2 = tf.nn.max_pool(A2,2,2,'VALID')\n",
    "    \n",
    "    # Flatten\n",
    "    F = tf.transpose(tf.reshape(P2,(x_batch.shape[0],-1)))\n",
    "\n",
    "    # Layer 3 (FC 1)\n",
    "    Z3 = W3@F + b3\n",
    "    A3 = tf.nn.relu(Z3)\n",
    "\n",
    "    # Layer 4 (FC 2)\n",
    "    Z4 = W4@A3 + b4\n",
    "    A4 = tf.nn.relu(Z4)\n",
    "\n",
    "    # Layer 5 (Softmax)\n",
    "    Z5 = W5@A4 + b5\n",
    "    A5 = tf.nn.softmax(Z5)\n",
    "\n",
    "    labels = tf.reshape(tf.math.argmax(A5,0),(-1,1))\n",
    "\n",
    "    return labels"
   ]
  },
  {
   "cell_type": "code",
   "execution_count": 13,
   "metadata": {},
   "outputs": [
    {
     "data": {
      "text/plain": [
       "<tf.Tensor: shape=(16,), dtype=int64, numpy=array([5, 0, 4, 1, 9, 2, 1, 3, 1, 4, 9, 5, 3, 6, 1, 7])>"
      ]
     },
     "execution_count": 13,
     "metadata": {},
     "output_type": "execute_result"
    }
   ],
   "source": [
    "predict(x_train[0:16])"
   ]
  },
  {
   "cell_type": "code",
   "execution_count": 14,
   "metadata": {},
   "outputs": [
    {
     "data": {
      "text/plain": [
       "array([[5],\n",
       "       [0],\n",
       "       [4],\n",
       "       [1],\n",
       "       [9],\n",
       "       [2],\n",
       "       [1],\n",
       "       [3],\n",
       "       [1],\n",
       "       [4],\n",
       "       [3],\n",
       "       [5],\n",
       "       [3],\n",
       "       [6],\n",
       "       [1],\n",
       "       [7]], dtype=uint8)"
      ]
     },
     "execution_count": 14,
     "metadata": {},
     "output_type": "execute_result"
    }
   ],
   "source": [
    "y_train[0:16]"
   ]
  }
 ],
 "metadata": {
  "kernelspec": {
   "display_name": "base",
   "language": "python",
   "name": "python3"
  },
  "language_info": {
   "codemirror_mode": {
    "name": "ipython",
    "version": 3
   },
   "file_extension": ".py",
   "mimetype": "text/x-python",
   "name": "python",
   "nbconvert_exporter": "python",
   "pygments_lexer": "ipython3",
   "version": "3.9.12"
  },
  "orig_nbformat": 4
 },
 "nbformat": 4,
 "nbformat_minor": 2
}
